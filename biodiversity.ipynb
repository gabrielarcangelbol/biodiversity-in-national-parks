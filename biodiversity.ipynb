{
 "cells": [
  {
   "cell_type": "markdown",
   "metadata": {},
   "source": [
    "\n",
    "## 🛠 Setting Up the Project\n",
    "\n",
    "Before starting the analysis, we need to download and set up the Biodiversity project properly. This ensures that all files are correctly placed and accessible for Jupyter Notebook.\n",
    "\n",
    "### 📥 Steps to Set Up\n",
    "\n",
    "1️⃣ **Download the [biodiversity.zip](https://content.codecademy.com/PRO/paths/data-science/biodiversity-starter.zip?_gl=1*1da6440*_gcl_au*NTEwNzU2OTkwLjE3NDYxMDUyNjk.*_ga*MTc5MTQ4OTgwMy4xNzMwMzc2Mzgy*_ga_3LRZM6TM9L*czE3NDc4MjM5NTUkbzExNSRnMCR0MTc0NzgyMzk1NSRqNjAkbDAkaDAkZGUxWFdubEpNc3dUQnNyUW42YXl6SVhaN2ljT3hwdjMyNGc.).**  \n",
    "\n",
    "2️⃣ **Unzip the folder** by double-clicking on it. The extracted directory should contain:\n",
    "   - 📄 `Observations.csv` – Contains species observations.\n",
    "   - 📄 `Species_info.csv` – Information about different species.\n",
    "   - 📄 `Biodiversity.ipynb` – The Jupyter Notebook file for analysis.\n",
    "\n",
    "3️⃣ **Open a command line terminal** and navigate into the unzipped directory:  \n",
    "   ```bash\n",
    "   cd path/to/unzipped-folder\n",
    "   ```\n",
    "\n",
    "4️⃣ **Start Jupyter Notebook** by running the following command:  \n",
    "   ```bash\n",
    "   jupyter notebook\n",
    "   ```\n",
    "   This will launch Jupyter in your browser.\n",
    "\n",
    "5️⃣ **Open the notebook** by clicking on `Biodiversity.ipynb` in the Jupyter interface. This will load the workspace where the analysis will be conducted.\n",
    "\n",
    "### 🔗 More Resources\n",
    "- 📖 [How to Use Jupyter Notebook](https://www.codecademy.com/articles/how-to-use-jupyter-notebooks-py3)\n",
    "\n",
    "---"
   ]
  },
  {
   "cell_type": "markdown",
   "metadata": {},
   "source": [
    "## 🛠 Setting Up Your Git Repository\n",
    "\n",
    "To keep your project organized and version-controlled, you should create a new Git repository.\n",
    "\n",
    "### 📌 Steps to Set Up\n",
    "\n",
    "1️⃣ **Create a new Git repository** for this project:\n",
    "   ```bash\n",
    "   git init\n",
    "   ```\n",
    "\n",
    "2️⃣ **Add the main components** that you want to include:\n",
    "   - 📂 **Jupyter Notebook** – Your analysis workspace.\n",
    "   - 📂 **CSV data file(s)** – The dataset used in your project.\n",
    "\n",
    "3️⃣ **Stage and commit your files**:\n",
    "   ```bash\n",
    "   git add .\n",
    "   git commit -m \"Initial commit: Added Jupyter Notebook and data files\"\n",
    "   ```\n",
    "\n",
    "### 🔗 More Resources\n",
    "- 📖 [GitHub Desktop](https://desktop.github.com/)\n",
    "- 📖 [Git Cheat Sheet](https://education.github.com/git-cheat-sheet)\n",
    "\n",
    "\n",
    "---\n"
   ]
  }
 ],
 "metadata": {
  "kernelspec": {
   "display_name": "Python 3",
   "language": "python",
   "name": "python3"
  },
  "language_info": {
   "codemirror_mode": {
    "name": "ipython",
    "version": 3
   },
   "file_extension": ".py",
   "mimetype": "text/x-python",
   "name": "python",
   "nbconvert_exporter": "python",
   "pygments_lexer": "ipython3",
   "version": "3.7.6"
  }
 },
 "nbformat": 4,
 "nbformat_minor": 4
}
